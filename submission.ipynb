{
 "cells": [
  {
   "cell_type": "markdown",
   "metadata": {},
   "source": [
    "Task 1: "
   ]
  },
  {
   "cell_type": "markdown",
   "metadata": {},
   "source": [
    "Questions:\n",
    "Given the tiny parameters for q and the generator along with the public key it would not be too difficult for an adversary to brute force the solution as to recover the secret key from the public they would just have to input all possible values up to q which given its small value would not be difficult.\n",
    "With the much larger parameters the adversary would definitely not be able to perform a similar brute force method as the number of computations for the brute force approach will increase exponentially.\n",
    "These tasks were possible because there was no way to authenticate what user you are really receiving the messages from. There was no way to indicate whether a connection from one user was untouched by another allowing for the MITM to send faulty keys and lead to Alice and Bob losing the integrity of the key exchange.\n",
    "If an adversary knows two users share the same value for n they would eventually be able to factor out values for q and n which would allow them to eventually recover the private key values for either user. With a user’s private key the adversary would be able to impersonate the user and send messages that appeared to come from this different user compromising that user’s entire identity."
   ]
  }
 ],
 "metadata": {
  "kernelspec": {
   "display_name": "Python 3",
   "language": "python",
   "name": "python3"
  },
  "language_info": {
   "codemirror_mode": {
    "name": "ipython",
    "version": 3
   },
   "file_extension": ".py",
   "mimetype": "text/x-python",
   "name": "python",
   "nbconvert_exporter": "python",
   "pygments_lexer": "ipython3",
   "version": "3.12.4"
  }
 },
 "nbformat": 4,
 "nbformat_minor": 2
}
